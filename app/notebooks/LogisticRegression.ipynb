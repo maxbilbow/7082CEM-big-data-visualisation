{
 "cells": [
  {
   "cell_type": "markdown",
   "metadata": {},
   "source": [
    "Set constants"
   ]
  },
  {
   "cell_type": "code",
   "execution_count": 187,
   "metadata": {},
   "outputs": [
    {
     "name": "stdout",
     "output_type": "stream",
     "text": [
      "../data/adult.data\n",
      "../data/attributes.csv\n",
      "../data/adult.test\n"
     ]
    }
   ],
   "source": [
    "import os\n",
    "\n",
    "ROOT = r\"..\"\n",
    "DATA_IN = os.path.join(ROOT, \"data\")\n",
    "SOURCE_DATASET = os.path.join(DATA_IN ,\"adult.data\")\n",
    "SOURCE_ATTRIBUTES = os.path.join(DATA_IN, \"attributes.csv\")\n",
    "SOURCE_TEST_DATA = os.path.join(DATA_IN, \"adult.test\")\n",
    "MODELS_DIR = os.path.join(ROOT, \".models\")\n",
    "\n",
    "print(SOURCE_DATASET)\n",
    "print(SOURCE_ATTRIBUTES)\n",
    "print(SOURCE_TEST_DATA)"
   ]
  },
  {
   "cell_type": "markdown",
   "metadata": {},
   "source": [
    "Initiate Spark session"
   ]
  },
  {
   "cell_type": "code",
   "execution_count": 188,
   "metadata": {
    "pycharm": {
     "name": "#%%\n"
    },
    "tags": []
   },
   "outputs": [],
   "source": [
    "from pyspark.sql import SparkSession\n",
    "\n",
    "\n",
    "spark=SparkSession \\\n",
    "    .builder \\\n",
    "    .appName(\"Income Predictor\") \\\n",
    "    .getOrCreate()"
   ]
  },
  {
   "cell_type": "markdown",
   "metadata": {},
   "source": [
    "Load the dataset"
   ]
  },
  {
   "cell_type": "code",
   "execution_count": 189,
   "metadata": {},
   "outputs": [
    {
     "name": "stdout",
     "output_type": "stream",
     "text": [
      "+-----+-----+--------------------+--------------------+\n",
      "| name| type|         description|              values|\n",
      "+-----+-----+--------------------+--------------------+\n",
      "|  f_1|float|                 age|                null|\n",
      "|  f_2| enum|           workclass|Private, Self-emp...|\n",
      "|  f_3|float|              fnlwgt|                null|\n",
      "|  f_4| enum|           education|Bachelors, Some-c...|\n",
      "|  f_5|float|       education-num|                null|\n",
      "|  f_6| enum|      marital-status|Married-civ-spous...|\n",
      "|  f_7| enum|          occupation|Tech-support, Cra...|\n",
      "|  f_8| enum|        relationship|Wife, Own-child, ...|\n",
      "|  f_9| enum|                race|White, Asian-Pac-...|\n",
      "| f_10| enum|                 sex|        Female, Male|\n",
      "| f_11|float|        capital-gain|                null|\n",
      "| f_12|float|        capital-loss|                null|\n",
      "| f_13|float|      hours-per-week|                null|\n",
      "| f_14| enum|      native-country|United-States, Ca...|\n",
      "|label| enum|predictor class: ...|              \"<=50k|\n",
      "+-----+-----+--------------------+--------------------+\n",
      "\n"
     ]
    }
   ],
   "source": [
    "from pyspark.sql.types import StructType, StructField, IntegerType, FloatType, StringType, BooleanType\n",
    "\n",
    "attrs = spark.read.csv(SOURCE_ATTRIBUTES, header=True)\n",
    "attrs.show()\n",
    "\n",
    "def get_field(t: str):\n",
    "    if t == \"float\":\n",
    "        return FloatType()\n",
    "    elif t == \"integer\":\n",
    "        return IntegerType()\n",
    "    elif t == \"enum\":\n",
    "        return StringType()\n",
    "    elif t == \"boolean\":\n",
    "        return BooleanType()\n",
    "    else:\n",
    "        raise Exception(\"Not expected: %s\" % t)\n",
    "\n",
    "def to_struct(row) -> StructField:\n",
    "    return StructField(row['name'], get_field(row['type']), nullable=False)\n",
    "\n",
    "struct_fields = attrs.rdd.map(to_struct).collect()\n",
    "\n",
    "schema=StructType(struct_fields)"
   ]
  },
  {
   "cell_type": "code",
   "execution_count": 191,
   "metadata": {},
   "outputs": [
    {
     "name": "stdout",
     "output_type": "stream",
     "text": [
      "+----+----------------+--------+---------+----+------------------+-----------------+-------------+-----+------+------+----+----+-------------+-----+\n",
      "| f_1|             f_2|     f_3|      f_4| f_5|               f_6|              f_7|          f_8|  f_9|  f_10|  f_11|f_12|f_13|         f_14|label|\n",
      "+----+----------------+--------+---------+----+------------------+-----------------+-------------+-----+------+------+----+----+-------------+-----+\n",
      "|39.0|       State-gov| 77516.0|Bachelors|13.0|     Never-married|     Adm-clerical|Not-in-family|White|  Male|2174.0| 0.0|40.0|United-States|<=50K|\n",
      "|50.0|Self-emp-not-inc| 83311.0|Bachelors|13.0|Married-civ-spouse|  Exec-managerial|      Husband|White|  Male|   0.0| 0.0|13.0|United-States|<=50K|\n",
      "|38.0|         Private|215646.0|  HS-grad| 9.0|          Divorced|Handlers-cleaners|Not-in-family|White|  Male|   0.0| 0.0|40.0|United-States|<=50K|\n",
      "|53.0|         Private|234721.0|     11th| 7.0|Married-civ-spouse|Handlers-cleaners|      Husband|Black|  Male|   0.0| 0.0|40.0|United-States|<=50K|\n",
      "|28.0|         Private|338409.0|Bachelors|13.0|Married-civ-spouse|   Prof-specialty|         Wife|Black|Female|   0.0| 0.0|40.0|         Cuba|<=50K|\n",
      "+----+----------------+--------+---------+----+------------------+-----------------+-------------+-----+------+------+----+----+-------------+-----+\n",
      "only showing top 5 rows\n",
      "\n",
      "root\n",
      " |-- f_1: float (nullable = true)\n",
      " |-- f_2: string (nullable = true)\n",
      " |-- f_3: float (nullable = true)\n",
      " |-- f_4: string (nullable = true)\n",
      " |-- f_5: float (nullable = true)\n",
      " |-- f_6: string (nullable = true)\n",
      " |-- f_7: string (nullable = true)\n",
      " |-- f_8: string (nullable = true)\n",
      " |-- f_9: string (nullable = true)\n",
      " |-- f_10: string (nullable = true)\n",
      " |-- f_11: float (nullable = true)\n",
      " |-- f_12: float (nullable = true)\n",
      " |-- f_13: float (nullable = true)\n",
      " |-- f_14: string (nullable = true)\n",
      " |-- label: string (nullable = true)\n",
      "\n"
     ]
    }
   ],
   "source": [
    "def load_data(file):\n",
    "    return spark.read.load(file, format=\"csv\", sep=\",\", header=False, ignoreLeadingWhiteSpace=True, ignoreTrailingWhiteSpace=True, schema=schema)\n",
    "\n",
    "df = load_data(SOURCE_DATASET)\n",
    "df.show(5)\n",
    "df.printSchema()"
   ]
  },
  {
   "cell_type": "code",
   "execution_count": 192,
   "metadata": {},
   "outputs": [],
   "source": [
    "#create a list of the columns that are string typed\n",
    "categoricalColumns = [item[0] for item in df.dtypes if item[1].startswith('string')]\n"
   ]
  },
  {
   "cell_type": "markdown",
   "metadata": {},
   "source": [
    "Next we need to convery text values to numeric index values"
   ]
  },
  {
   "cell_type": "code",
   "execution_count": 193,
   "metadata": {},
   "outputs": [
    {
     "name": "stdout",
     "output_type": "stream",
     "text": [
      "+----+--------+----+-------+----+----+----+----+----+----+----+----+-----+-----+-----+\n",
      "| f_1|     f_3| f_5|   f_11|f_12|f_13|f_2i|f_4i|f_6i|f_7i|f_8i|f_9i|f_10i|f_14i|label|\n",
      "+----+--------+----+-------+----+----+----+----+----+----+----+----+-----+-----+-----+\n",
      "|39.0| 77516.0|13.0| 2174.0| 0.0|40.0| 4.0| 2.0| 1.0| 3.0| 1.0| 0.0|  0.0|  0.0|  0.0|\n",
      "|50.0| 83311.0|13.0|    0.0| 0.0|13.0| 1.0| 2.0| 0.0| 2.0| 0.0| 0.0|  0.0|  0.0|  0.0|\n",
      "|38.0|215646.0| 9.0|    0.0| 0.0|40.0| 0.0| 0.0| 2.0| 9.0| 1.0| 0.0|  0.0|  0.0|  0.0|\n",
      "|53.0|234721.0| 7.0|    0.0| 0.0|40.0| 0.0| 5.0| 0.0| 9.0| 0.0| 1.0|  0.0|  0.0|  0.0|\n",
      "|28.0|338409.0|13.0|    0.0| 0.0|40.0| 0.0| 2.0| 0.0| 0.0| 4.0| 1.0|  1.0|  9.0|  0.0|\n",
      "|37.0|284582.0|14.0|    0.0| 0.0|40.0| 0.0| 3.0| 0.0| 2.0| 4.0| 0.0|  1.0|  0.0|  0.0|\n",
      "|49.0|160187.0| 5.0|    0.0| 0.0|16.0| 0.0|10.0| 5.0| 5.0| 1.0| 1.0|  1.0| 11.0|  0.0|\n",
      "|52.0|209642.0| 9.0|    0.0| 0.0|45.0| 1.0| 0.0| 0.0| 2.0| 0.0| 0.0|  0.0|  0.0|  1.0|\n",
      "|31.0| 45781.0|14.0|14084.0| 0.0|50.0| 0.0| 3.0| 1.0| 0.0| 1.0| 0.0|  1.0|  0.0|  1.0|\n",
      "|42.0|159449.0|13.0| 5178.0| 0.0|40.0| 0.0| 2.0| 0.0| 2.0| 0.0| 0.0|  0.0|  0.0|  1.0|\n",
      "+----+--------+----+-------+----+----+----+----+----+----+----+----+-----+-----+-----+\n",
      "only showing top 10 rows\n",
      "\n"
     ]
    }
   ],
   "source": [
    "from pyspark.ml import Pipeline\n",
    "from pyspark.ml.feature import StringIndexer\n",
    "\n",
    "indexers = [StringIndexer(inputCol=column, outputCol=column+\"i\").fit(df) for column in categoricalColumns ]\n",
    "pipeline = Pipeline(stages=indexers)\n",
    "\n",
    "\n",
    "def index_strings(df):\n",
    "    dfi=pipeline.fit(df).transform(df)\n",
    "    return dfi.drop(*categoricalColumns).withColumnRenamed('labeli', 'label')\n",
    "\n",
    "df_i=index_strings(df)\n",
    "df_i.show(5)"
   ]
  },
  {
   "cell_type": "code",
   "execution_count": 194,
   "metadata": {},
   "outputs": [
    {
     "name": "stdout",
     "output_type": "stream",
     "text": [
      "+--------------------+-----+\n",
      "|            features|label|\n",
      "+--------------------+-----+\n",
      "|[39.0,77516.0,13....|  0.0|\n",
      "|(14,[0,1,2,5,6,7,...|  0.0|\n",
      "|(14,[0,1,2,5,8,9,...|  0.0|\n",
      "|(14,[0,1,2,5,7,9,...|  0.0|\n",
      "|[28.0,338409.0,13...|  0.0|\n",
      "+--------------------+-----+\n",
      "only showing top 5 rows\n",
      "\n"
     ]
    }
   ],
   "source": [
    "from pyspark.ml.feature import VectorAssembler, Normalizer\n",
    "VECTOR_COL='features'\n",
    "features=list(df_i.drop(\"label\").toPandas().columns)\n",
    "\n",
    "assembler=VectorAssembler(inputCols=features, outputCol=VECTOR_COL)\n",
    "\n",
    "def create_feature_vector(df):\n",
    "    df_vector = assembler.transform(df)\n",
    "    return df_vector.select(*[VECTOR_COL, 'label'])\n",
    "\n",
    "df_vector = create_feature_vector(df_i)\n",
    "df_vector.show(5)"
   ]
  },
  {
   "cell_type": "markdown",
   "metadata": {},
   "source": [
    "Next we to normalize the feature vectors using $L^1$ norm "
   ]
  },
  {
   "cell_type": "code",
   "execution_count": 195,
   "metadata": {},
   "outputs": [
    {
     "name": "stdout",
     "output_type": "stream",
     "text": [
      "+-----+--------------------+\n",
      "|label|            features|\n",
      "+-----+--------------------+\n",
      "|  0.0|[4.88764678605892...|\n",
      "|  0.0|(14,[0,1,2,5,6,7,...|\n",
      "|  0.0|(14,[0,1,2,5,8,9,...|\n",
      "|  0.0|(14,[0,1,2,5,7,9,...|\n",
      "|  0.0|[8.27161624427264...|\n",
      "+-----+--------------------+\n",
      "only showing top 5 rows\n",
      "\n"
     ]
    }
   ],
   "source": [
    "normalizer = Normalizer().setInputCol(VECTOR_COL).setOutputCol(f'{VECTOR_COL}_n').setP(1.0)\n",
    "\n",
    "\n",
    "def normalize_vector(df_vector):\n",
    "    df_vector = normalizer.transform(df_vector)\n",
    "    return df_vector.drop(VECTOR_COL).withColumnRenamed(f'{VECTOR_COL}_n',VECTOR_COL)\n",
    "\n",
    "df_vector = normalize_vector(df_vector)\n",
    "df_vector.show(5)\n"
   ]
  },
  {
   "cell_type": "code",
   "execution_count": 198,
   "metadata": {},
   "outputs": [
    {
     "name": "stdout",
     "output_type": "stream",
     "text": [
      "LogisticRegression parameters:\n",
      "aggregationDepth: suggested depth for treeAggregate (>= 2). (default: 2)\n",
      "elasticNetParam: the ElasticNet mixing parameter, in range [0, 1]. For alpha = 0, the penalty is an L2 penalty. For alpha = 1, it is an L1 penalty. (default: 0.0)\n",
      "family: The name of family which is a description of the label distribution to be used in the model. Supported options: auto, binomial, multinomial (default: auto)\n",
      "featuresCol: features column name. (default: features, current: features)\n",
      "fitIntercept: whether to fit an intercept term. (default: True)\n",
      "labelCol: label column name. (default: label, current: label)\n",
      "lowerBoundsOnCoefficients: The lower bounds on coefficients if fitting under bound constrained optimization. The bound matrix must be compatible with the shape (1, number of features) for binomial regression, or (number of classes, number of features) for multinomial regression. (undefined)\n",
      "lowerBoundsOnIntercepts: The lower bounds on intercepts if fitting under bound constrained optimization. The bounds vector size must beequal with 1 for binomial regression, or the number oflasses for multinomial regression. (undefined)\n",
      "maxBlockSizeInMB: maximum memory in MB for stacking input data into blocks. Data is stacked within partitions. If more than remaining data size in a partition then it is adjusted to the data size. Default 0.0 represents choosing optimal value, depends on specific algorithm. Must be >= 0. (default: 0.0)\n",
      "maxIter: max number of iterations (>= 0). (default: 100, current: 10)\n",
      "predictionCol: prediction column name. (default: prediction)\n",
      "probabilityCol: Column name for predicted class conditional probabilities. Note: Not all models output well-calibrated probability estimates! These probabilities should be treated as confidences, not precise probabilities. (default: probability)\n",
      "rawPredictionCol: raw prediction (a.k.a. confidence) column name. (default: rawPrediction)\n",
      "regParam: regularization parameter (>= 0). (default: 0.0, current: 0.01)\n",
      "standardization: whether to standardize the training features before fitting the model. (default: True)\n",
      "threshold: Threshold in binary classification prediction, in range [0, 1]. If threshold and thresholds are both set, they must match.e.g. if threshold is p, then thresholds must be equal to [1-p, p]. (default: 0.5)\n",
      "thresholds: Thresholds in multi-class classification to adjust the probability of predicting each class. Array must have length equal to the number of classes, with values > 0, excepting that at most one value may be 0. The class with largest value p/t is predicted, where p is the original probability of that class and t is the class's threshold. (undefined)\n",
      "tol: the convergence tolerance for iterative algorithms (>= 0). (default: 1e-06)\n",
      "upperBoundsOnCoefficients: The upper bounds on coefficients if fitting under bound constrained optimization. The bound matrix must be compatible with the shape (1, number of features) for binomial regression, or (number of classes, number of features) for multinomial regression. (undefined)\n",
      "upperBoundsOnIntercepts: The upper bounds on intercepts if fitting under bound constrained optimization. The bound vector size must be equal with 1 for binomial regression, or the number of classes for multinomial regression. (undefined)\n",
      "weightCol: weight column name. If this is not set or empty, we treat all instance weights as 1.0. (undefined)\n",
      "\n",
      "Model 1 was fit using parameters: \n",
      "Model 2 was fit using parameters: \n"
     ]
    }
   ],
   "source": [
    "from pyspark.ml.classification import LogisticRegression\n",
    "\n",
    "training_data=df_vector\n",
    "\n",
    "# Create a LogisticRegression instance. This instance is an Estimator.\n",
    "lr = LogisticRegression(maxIter=10, regParam=0.01, featuresCol=VECTOR_COL, labelCol=\"label\")\n",
    "# Print out the parameters, documentation, and any default values.\n",
    "print(\"LogisticRegression parameters:\\n\" + lr.explainParams() + \"\\n\")\n",
    "# Learn a LogisticRegression models. This uses the parameters stored in lr.\n",
    "model1 = lr.fit(training_data)\n",
    "print(\"Model 1 was fit using parameters: \")\n",
    "model1.extractParamMap()\n",
    "# We may alternatively specify parameters using a Python dictionary as a paramMap\n",
    "paramMap = {lr.maxIter: 20}\n",
    "paramMap[lr.maxIter] = 30  # Specify 1 Param, overwriting the original maxIter.\n",
    "# Specify multiple Params.\n",
    "paramMap.update({lr.regParam: 0.1, lr.threshold: 0.55})  # type: ignore\n",
    "# You can combine paramMaps, which are python dictionaries.\n",
    "# Change output column name\n",
    "paramMap2 = {lr.probabilityCol: \"probability\"}  # type: ignore\n",
    "paramMapCombined = paramMap.copy()\n",
    "paramMapCombined.update(paramMap2)  # type: ignore\n",
    "# Now learn a new models using the paramMapCombined parameters.\n",
    "# paramMapCombined overrides all parameters set earlier via lr.set* methods.\n",
    "model2 = lr.fit(training_data, paramMapCombined)\n",
    "print(\"Model 2 was fit using parameters: \")\n",
    "model2.extractParamMap()\n",
    "\n",
    "model=model2"
   ]
  },
  {
   "cell_type": "code",
   "execution_count": 207,
   "metadata": {},
   "outputs": [
    {
     "name": "stdout",
     "output_type": "stream",
     "text": [
      "+-----+--------------------+\n",
      "|label|            features|\n",
      "+-----+--------------------+\n",
      "|  0.0|[1.10186038106739...|\n",
      "|  0.0|(14,[0,1,2,5,9],[...|\n",
      "|  1.0|(14,[0,1,2,5,6,7,...|\n",
      "|  1.0|(14,[0,1,2,3,5,7,...|\n",
      "|  0.0|[1.73795500627594...|\n",
      "+-----+--------------------+\n",
      "only showing top 5 rows\n",
      "\n"
     ]
    }
   ],
   "source": [
    "test_data=load_data(SOURCE_TEST_DATA)\n",
    "test_data=index_strings(test_data)\n",
    "test_data=create_feature_vector(test_data)\n",
    "test_data=normalize_vector(test_data)\n",
    "\n",
    "test_data.show(5)"
   ]
  },
  {
   "cell_type": "code",
   "execution_count": 208,
   "metadata": {},
   "outputs": [
    {
     "name": "stdout",
     "output_type": "stream",
     "text": [
      "Test Accuracy = 0.781095\n"
     ]
    },
    {
     "data": {
      "text/plain": [
       "0.7810945273631841"
      ]
     },
     "execution_count": 208,
     "metadata": {},
     "output_type": "execute_result"
    }
   ],
   "source": [
    "from pyspark.ml.evaluation import MulticlassClassificationEvaluator\n",
    "from pyspark.ml.util import JavaMLWritable\n",
    "from pyspark.sql import DataFrame\n",
    "\n",
    "# Make predictions on test data using the Transformer.transform() method.\n",
    "# LogisticRegression.transform will only use the 'features' column.\n",
    "prediction = model.transform(test_data)\n",
    "# obtain evaluator.\n",
    "evaluator = MulticlassClassificationEvaluator(metricName=\"accuracy\", labelCol='label')\n",
    "# compute the classification error on test data.\n",
    "accuracy = evaluator.evaluate(prediction)\n",
    "print(\"Test Accuracy = %g\" % accuracy)\n",
    "accuracy"
   ]
  },
  {
   "cell_type": "code",
   "execution_count": null,
   "metadata": {},
   "outputs": [],
   "source": []
  }
 ],
 "metadata": {
  "kernelspec": {
   "display_name": "Python 3 (ipykernel)",
   "language": "python",
   "name": "python3"
  },
  "language_info": {
   "codemirror_mode": {
    "name": "ipython",
    "version": 3
   },
   "file_extension": ".py",
   "mimetype": "text/x-python",
   "name": "python",
   "nbconvert_exporter": "python",
   "pygments_lexer": "ipython3",
   "version": "3.9.7"
  },
  "toc-autonumbering": true
 },
 "nbformat": 4,
 "nbformat_minor": 4
}
