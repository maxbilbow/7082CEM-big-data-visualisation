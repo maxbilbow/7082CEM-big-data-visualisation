{
 "cells": [
  {
   "cell_type": "markdown",
   "metadata": {
    "tags": []
   },
   "source": [
    "# Prepare the Data\n",
    "## Set Constants\n",
    "Set constants"
   ]
  },
  {
   "cell_type": "code",
   "execution_count": 1,
   "metadata": {},
   "outputs": [
    {
     "name": "stdout",
     "output_type": "stream",
     "text": [
      "./data/income-predictor/adult.data\n",
      "./data/income-predictor/attributes.csv\n",
      "./data/income-predictor/adult.test\n"
     ]
    }
   ],
   "source": [
    "import os\n",
    "\n",
    "ROOT = r\"./\"\n",
    "DATA_IN = os.path.join(ROOT, \"data\", \"income-predictor\")\n",
    "SOURCE_DATASET = os.path.join(DATA_IN ,\"adult.data\")\n",
    "SOURCE_ATTRIBUTES = os.path.join(DATA_IN, \"attributes.csv\")\n",
    "SOURCE_TEST_DATA = os.path.join(DATA_IN, \"adult.test\")\n",
    "COMBINED_DATA_OUT = f'{SOURCE_DATASET}.full'\n",
    "\n",
    "LABEL_COL='>50K'\n",
    "\n",
    "\n",
    "print(SOURCE_DATASET)\n",
    "print(SOURCE_ATTRIBUTES)\n",
    "print(SOURCE_TEST_DATA)"
   ]
  },
  {
   "cell_type": "markdown",
   "metadata": {},
   "source": [
    "## Instantiate Spark Session"
   ]
  },
  {
   "cell_type": "code",
   "execution_count": 2,
   "metadata": {
    "pycharm": {
     "name": "#%%\n"
    },
    "tags": []
   },
   "outputs": [],
   "source": [
    "from pyspark.sql import SparkSession, DataFrame\n",
    "\n",
    "spark=SparkSession \\\n",
    "    .builder \\\n",
    "    .appName(\"Income Predictor\") \\\n",
    "    .getOrCreate()"
   ]
  },
  {
   "cell_type": "markdown",
   "metadata": {},
   "source": [
    "## Create Schema\n",
    "An attributes file was created from the [data's decription](http://archive.ics.uci.edu/ml/datasets/Census+Income)"
   ]
  },
  {
   "cell_type": "code",
   "execution_count": 3,
   "metadata": {},
   "outputs": [
    {
     "name": "stdout",
     "output_type": "stream",
     "text": [
      "+-----+----------+--------------+--------------------+\n",
      "| name|      type|   description|              values|\n",
      "+-----+----------+--------------+--------------------+\n",
      "|  f_1|continuous|           age|                null|\n",
      "|  f_2|    string|     workclass|Private, Self-emp...|\n",
      "|  f_3|continuous|        fnlwgt|                null|\n",
      "|  f_4|    string|     education|Bachelors, Some-c...|\n",
      "|  f_5|continuous| education-num|                null|\n",
      "|  f_6|    string|marital-status|Married-civ-spous...|\n",
      "|  f_7|    string|    occupation|Tech-support, Cra...|\n",
      "|  f_8|    string|  relationship|Wife, Own-child, ...|\n",
      "|  f_9|    string|          race|White, Asian-Pac-...|\n",
      "| f_10|    string|           sex|        Female, Male|\n",
      "| f_11|continuous|  capital-gain|                null|\n",
      "| f_12|continuous|  capital-loss|                null|\n",
      "| f_13|continuous|hours-per-week|                null|\n",
      "| f_14|    string|native-country|United-States, Ca...|\n",
      "|label|    string|         label|              \"<=50k|\n",
      "+-----+----------+--------------+--------------------+\n",
      "\n"
     ]
    }
   ],
   "source": [
    "from pyspark.sql.types import StructType, StructField, IntegerType, DecimalType, StringType, BooleanType\n",
    "\n",
    "attrs = spark.read.csv(SOURCE_ATTRIBUTES, header=True)\n",
    "attrs.show()\n",
    "\n",
    "def get_field(t: str):\n",
    "    if t == \"continuous\":\n",
    "        return DecimalType()\n",
    "    elif t == \"string\":\n",
    "        return StringType()\n",
    "    elif t == \"boolean\":\n",
    "        return BooleanType()\n",
    "    else:\n",
    "        raise Exception(\"Not expected: %s\" % t)\n",
    "\n",
    "def to_struct(row) -> StructField:\n",
    "    return StructField(row['description'], get_field(row['type']), nullable=False)\n",
    "\n",
    "struct_fields = attrs.rdd.map(to_struct).collect()\n",
    "\n",
    "schema=StructType(struct_fields)"
   ]
  },
  {
   "cell_type": "markdown",
   "metadata": {},
   "source": [
    "## Load the Training Data\n",
    "We'll also create a function `load_data(file: str)` which can be used to load the test data later."
   ]
  },
  {
   "cell_type": "code",
   "execution_count": 4,
   "metadata": {},
   "outputs": [
    {
     "name": "stdout",
     "output_type": "stream",
     "text": [
      "+---+----------------+------+---------+-------------+------------------+-----------------+-------------+-----+------+------------+------------+--------------+--------------+-----+\n",
      "|age|       workclass|fnlwgt|education|education-num|    marital-status|       occupation| relationship| race|   sex|capital-gain|capital-loss|hours-per-week|native-country|label|\n",
      "+---+----------------+------+---------+-------------+------------------+-----------------+-------------+-----+------+------------+------------+--------------+--------------+-----+\n",
      "| 39|       State-gov| 77516|Bachelors|           13|     Never-married|     Adm-clerical|Not-in-family|White|  Male|        2174|           0|            40| United-States|<=50K|\n",
      "| 50|Self-emp-not-inc| 83311|Bachelors|           13|Married-civ-spouse|  Exec-managerial|      Husband|White|  Male|           0|           0|            13| United-States|<=50K|\n",
      "| 38|         Private|215646|  HS-grad|            9|          Divorced|Handlers-cleaners|Not-in-family|White|  Male|           0|           0|            40| United-States|<=50K|\n",
      "| 53|         Private|234721|     11th|            7|Married-civ-spouse|Handlers-cleaners|      Husband|Black|  Male|           0|           0|            40| United-States|<=50K|\n",
      "| 28|         Private|338409|Bachelors|           13|Married-civ-spouse|   Prof-specialty|         Wife|Black|Female|           0|           0|            40|          Cuba|<=50K|\n",
      "+---+----------------+------+---------+-------------+------------------+-----------------+-------------+-----+------+------------+------------+--------------+--------------+-----+\n",
      "only showing top 5 rows\n",
      "\n",
      "root\n",
      " |-- age: decimal(10,0) (nullable = true)\n",
      " |-- workclass: string (nullable = true)\n",
      " |-- fnlwgt: decimal(10,0) (nullable = true)\n",
      " |-- education: string (nullable = true)\n",
      " |-- education-num: decimal(10,0) (nullable = true)\n",
      " |-- marital-status: string (nullable = true)\n",
      " |-- occupation: string (nullable = true)\n",
      " |-- relationship: string (nullable = true)\n",
      " |-- race: string (nullable = true)\n",
      " |-- sex: string (nullable = true)\n",
      " |-- capital-gain: decimal(10,0) (nullable = true)\n",
      " |-- capital-loss: decimal(10,0) (nullable = true)\n",
      " |-- hours-per-week: decimal(10,0) (nullable = true)\n",
      " |-- native-country: string (nullable = true)\n",
      " |-- label: string (nullable = true)\n",
      "\n"
     ]
    },
    {
     "data": {
      "text/plain": [
       "32561"
      ]
     },
     "execution_count": 4,
     "metadata": {},
     "output_type": "execute_result"
    }
   ],
   "source": [
    "def load_data(file: str):\n",
    "    return spark.read.load(file, format=\"csv\", sep=\",\", header=False, ignoreLeadingWhiteSpace=True, ignoreTrailingWhiteSpace=True, schema=schema)\n",
    "\n",
    "df = load_data(SOURCE_DATASET)\n",
    "df.show(5)\n",
    "df.printSchema()\n",
    "df.count()"
   ]
  },
  {
   "cell_type": "markdown",
   "metadata": {
    "tags": []
   },
   "source": [
    "# Clean Training Data\n",
    "As it is, the training data is not ready for planned analysis:"
   ]
  },
  {
   "cell_type": "markdown",
   "metadata": {},
   "source": [
    "## Convert Label Column\n",
    "Our categorisation model will aim to predict whether an individual earns more than $50k per year. Since there are only two categories, we can express this as a binary integer or boolean type.\n",
    "\n",
    "The function `convert_label_col(df: DataFrame)` will be created and used again later."
   ]
  },
  {
   "cell_type": "code",
   "execution_count": 5,
   "metadata": {},
   "outputs": [
    {
     "name": "stdout",
     "output_type": "stream",
     "text": [
      "+-----+\n",
      "| >50K|\n",
      "+-----+\n",
      "|false|\n",
      "|false|\n",
      "|false|\n",
      "|false|\n",
      "|false|\n",
      "|false|\n",
      "|false|\n",
      "| true|\n",
      "| true|\n",
      "| true|\n",
      "+-----+\n",
      "only showing top 10 rows\n",
      "\n"
     ]
    }
   ],
   "source": [
    "import pyspark.sql.functions as f\n",
    "\n",
    "def convert_label_col(df: DataFrame):\n",
    "    df=df.withColumnRenamed('label', LABEL_COL)\n",
    "    df=df.withColumn(LABEL_COL, f.when(f.col(LABEL_COL) == '>50K', 'True').otherwise('False'))\n",
    "    return df.withColumn(LABEL_COL, df[LABEL_COL].cast(BooleanType()))\n",
    "\n",
    "df = convert_label_col(df)\n",
    "\n",
    "df.select(LABEL_COL).show(10)\n",
    "\n"
   ]
  },
  {
   "cell_type": "markdown",
   "metadata": {
    "tags": []
   },
   "source": [
    "## Handle Missing Data\n",
    "Missing values have been replaced with a '?' character. These values may make our model less accurate.\n",
    "\n"
   ]
  },
  {
   "cell_type": "code",
   "execution_count": 6,
   "metadata": {},
   "outputs": [
    {
     "name": "stdout",
     "output_type": "stream",
     "text": [
      "+---+---------+------+---------+-------------+--------------+----------+------------+----+---+------------+------------+--------------+--------------+----+\n",
      "|age|workclass|fnlwgt|education|education-num|marital-status|occupation|relationship|race|sex|capital-gain|capital-loss|hours-per-week|native-country|>50K|\n",
      "+---+---------+------+---------+-------------+--------------+----------+------------+----+---+------------+------------+--------------+--------------+----+\n",
      "|  0|     1836|     0|        0|            0|             0|      1843|           0|   0|  0|           0|           0|             0|           583|   0|\n",
      "+---+---------+------+---------+-------------+--------------+----------+------------+----+---+------------+------------+--------------+--------------+----+\n",
      "\n"
     ]
    }
   ],
   "source": [
    "def count_rows_with_missing_data(df: DataFrame):\n",
    "    return df.select([f.sum(f.when(f.col(c) == '?', 1).otherwise(0)).alias(c) for c in df.columns])\n",
    "\n",
    "count_rows_with_missing_data(df).show()"
   ]
  },
  {
   "cell_type": "markdown",
   "metadata": {},
   "source": [
    "There are a few ways to deal with them:\n",
    "* Remove entries with missing values (so long as this is not a significant number)\n",
    "* Impute missing values (if continuous)\n",
    "```python\n",
    "NUMERIC_COLUMNS=['capital-gain','capital-loss']\n",
    "imputer = Imputer(\n",
    "    inputCols=NUMERIC_COLUMNS,\n",
    "    outputCols=[\"{}_imputed\".format(c) for c in NUMERIC_COLUMNS]\n",
    ")\n",
    "df=imputer.fit(df).transform(df)\n",
    "```\n",
    "* Assign them a string value (in this case '?') and include them in the model\n",
    "\n",
    "Note that none of our numeric columns contain missing data:"
   ]
  },
  {
   "cell_type": "code",
   "execution_count": 7,
   "metadata": {},
   "outputs": [
    {
     "name": "stdout",
     "output_type": "stream",
     "text": [
      "Numeric: ['age', 'fnlwgt', 'education-num', 'capital-gain', 'capital-loss', 'hours-per-week']\n",
      "Categorical: ['workclass', 'education', 'marital-status', 'occupation', 'relationship', 'race', 'sex', 'native-country']\n",
      "+---+------+-------------+------------+------------+--------------+\n",
      "|age|fnlwgt|education-num|capital-gain|capital-loss|hours-per-week|\n",
      "+---+------+-------------+------------+------------+--------------+\n",
      "|  0|     0|            0|           0|           0|             0|\n",
      "+---+------+-------------+------------+------------+--------------+\n",
      "\n"
     ]
    }
   ],
   "source": [
    "#create a list of the columns that are string typed\n",
    "categoricalColumns = [item[0] for item in df.dtypes if item[1].startswith('string')]\n",
    "numericColumns = [item[0] for item in df.dtypes if item[1].startswith('decimal')]\n",
    "\n",
    "print(f'Numeric: {numericColumns}')\n",
    "print(f'Categorical: {categoricalColumns}')\n",
    "\n",
    "count_rows_with_missing_data(df).select(numericColumns).show()"
   ]
  },
  {
   "cell_type": "markdown",
   "metadata": {},
   "source": [
    "Therefore we do not need to impute these values. \n",
    "\n",
    "Filtering out all the missing values, we can see the impact this has on the dataset:"
   ]
  },
  {
   "cell_type": "code",
   "execution_count": 8,
   "metadata": {},
   "outputs": [
    {
     "name": "stdout",
     "output_type": "stream",
     "text": [
      "7.36770983692147\n"
     ]
    }
   ],
   "source": [
    "def remove_rows_with_missing_categorical_data(df: DataFrame):\n",
    "    categoricalColumns = [item[0] for item in df.dtypes if item[1].startswith('string')]\n",
    "    for col in categoricalColumns:\n",
    "        df=df.filter(df[col]!='?')\n",
    "    return df\n",
    "\n",
    "total_rows=df.count()\n",
    "rows_with_missing_data=total_rows-remove_rows_with_missing_categorical_data(df).count()\n",
    "percentage=rows_with_missing_data*100/total_rows\n",
    "\n",
    "print(percentage)"
   ]
  },
  {
   "cell_type": "markdown",
   "metadata": {},
   "source": [
    "Removing these entries should be benificial for our model but it is probably worth keeping them for other forms of analysis.\n",
    "\n",
    "We shall export the data for further analysis and clean the empty values when training our model:"
   ]
  },
  {
   "cell_type": "code",
   "execution_count": 9,
   "metadata": {},
   "outputs": [],
   "source": [
    "\n",
    "\n",
    "test_data=load_data(SOURCE_TEST_DATA)\n",
    "# test_data=remove_superfluous_cols(test_data)\n",
    "test_data=convert_label_col(test_data)\n",
    "\n",
    "# Combine prepared test data and training data for use with Tableau later\n",
    "df_combined = df.union(test_data)\n",
    "\n",
    "df_combined.repartition(1).write.csv(COMBINED_DATA_OUT, header=True, sep=',', mode='overwrite')\n",
    "\n"
   ]
  },
  {
   "cell_type": "markdown",
   "metadata": {},
   "source": [
    "# Exploring Data Characteristics\n",
    "When representing the population, we must multiply any counts by fnlwgt to get the true proportion."
   ]
  },
  {
   "cell_type": "code",
   "execution_count": 10,
   "metadata": {},
   "outputs": [
    {
     "name": "stdout",
     "output_type": "stream",
     "text": [
      "Sex:\n",
      "+------+-----+\n",
      "|   sex|count|\n",
      "+------+-----+\n",
      "|Female|16192|\n",
      "|  Male|32650|\n",
      "+------+-----+\n",
      "\n",
      "Education:\n",
      "+------------+-----+\n",
      "|   education|count|\n",
      "+------------+-----+\n",
      "|     Masters| 2657|\n",
      "|        10th| 1389|\n",
      "|     5th-6th|  509|\n",
      "|  Assoc-acdm| 1601|\n",
      "|   Assoc-voc| 2061|\n",
      "|     7th-8th|  955|\n",
      "|         9th|  756|\n",
      "|     HS-grad|15784|\n",
      "|   Bachelors| 8025|\n",
      "|        11th| 1812|\n",
      "|     1st-4th|  247|\n",
      "|   Preschool|   83|\n",
      "|        12th|  657|\n",
      "|   Doctorate|  594|\n",
      "|Some-college|10878|\n",
      "| Prof-school|  834|\n",
      "+------------+-----+\n",
      "\n",
      "Education_num:\n",
      "+-------------+-----+\n",
      "|education-num|count|\n",
      "+-------------+-----+\n",
      "|           16|  594|\n",
      "|           15|  834|\n",
      "|           14| 2657|\n",
      "|           13| 8025|\n",
      "|           12| 1601|\n",
      "|           11| 2061|\n",
      "|           10|10878|\n",
      "|            9|15784|\n",
      "|            8|  657|\n",
      "|            7| 1812|\n",
      "|            6| 1389|\n",
      "|            5|  756|\n",
      "|            4|  955|\n",
      "|            3|  509|\n",
      "|            2|  247|\n",
      "|            1|   83|\n",
      "+-------------+-----+\n",
      "\n"
     ]
    }
   ],
   "source": [
    "print('Sex:')\n",
    "df_combined.groupby('sex').count().show()\n",
    "\n",
    "print('Education:')\n",
    "df_combined.groupby('education').count().show()\n",
    "\n",
    "print('Education_num:')\n",
    "df_combined.groupby('education-num').count().sort('education-num', ascending=False).show()\n"
   ]
  },
  {
   "cell_type": "code",
   "execution_count": 11,
   "metadata": {},
   "outputs": [
    {
     "name": "stdout",
     "output_type": "stream",
     "text": [
      "Number of distinct countries: 42\n",
      "+--------------------+-----+\n",
      "|      native-country|count|\n",
      "+--------------------+-----+\n",
      "|         Philippines|  295|\n",
      "|             Germany|  206|\n",
      "|            Cambodia|   28|\n",
      "|              France|   38|\n",
      "|              Greece|   49|\n",
      "|              Taiwan|   65|\n",
      "|             Ecuador|   45|\n",
      "|           Nicaragua|   49|\n",
      "|                Hong|   30|\n",
      "|                Peru|   46|\n",
      "|               India|  151|\n",
      "|               China|  122|\n",
      "|               Italy|  105|\n",
      "|  Holand-Netherlands|    1|\n",
      "|                Cuba|  138|\n",
      "|               South|  115|\n",
      "|                Iran|   59|\n",
      "|             Ireland|   37|\n",
      "|            Thailand|   30|\n",
      "|                Laos|   23|\n",
      "|         El-Salvador|  155|\n",
      "|              Mexico|  951|\n",
      "|           Guatemala|   88|\n",
      "|            Honduras|   20|\n",
      "|          Yugoslavia|   23|\n",
      "|         Puerto-Rico|  184|\n",
      "|             Jamaica|  106|\n",
      "|              Canada|  182|\n",
      "|       United-States|43832|\n",
      "|  Dominican-Republic|  103|\n",
      "|Outlying-US(Guam-...|   23|\n",
      "|               Japan|   92|\n",
      "|             England|  127|\n",
      "|               Haiti|   75|\n",
      "|              Poland|   87|\n",
      "|            Portugal|   67|\n",
      "|                   ?|  857|\n",
      "|            Columbia|   85|\n",
      "|            Scotland|   21|\n",
      "|             Hungary|   19|\n",
      "|             Vietnam|   86|\n",
      "|     Trinadad&Tobago|   27|\n",
      "+--------------------+-----+\n",
      "\n"
     ]
    }
   ],
   "source": [
    "\n",
    "distinct_countries_count=df.select(['native-country']).distinct().count()\n",
    "print(f'Number of distinct countries: {distinct_countries_count}')\n",
    "df_combined.groupby('native-country').count().show(distinct_countries_count)\n",
    "\n"
   ]
  },
  {
   "cell_type": "markdown",
   "metadata": {
    "tags": []
   },
   "source": [
    "# Preparing the Model\n",
    "We are going to train a Logistic Regression modal to classify the data. In order to do that, each row must be converted into numeric vector data."
   ]
  },
  {
   "cell_type": "markdown",
   "metadata": {},
   "source": [
    "## Irrelevant Data\n",
    "fnlwgt (Final Weight) does not relate to the individual entry; rather it describes the proportion of the population that this entry represents.\n",
    "\n",
    "It has no use in our analysis and can be removed.\n",
    "\n",
    "We can also remove 'education' as this is already indexed in the column 'education-num'.\n",
    "\n",
    "The function `remove_superfluous_cols(df)` will be reused when preparing our test data."
   ]
  },
  {
   "cell_type": "code",
   "execution_count": 12,
   "metadata": {},
   "outputs": [
    {
     "name": "stdout",
     "output_type": "stream",
     "text": [
      "+---+----------------+-------------+------------------+-----------------+-------------+-----+------+------------+------------+--------------+--------------+-----+\n",
      "|age|       workclass|education-num|    marital-status|       occupation| relationship| race|   sex|capital-gain|capital-loss|hours-per-week|native-country| >50K|\n",
      "+---+----------------+-------------+------------------+-----------------+-------------+-----+------+------------+------------+--------------+--------------+-----+\n",
      "| 39|       State-gov|           13|     Never-married|     Adm-clerical|Not-in-family|White|  Male|        2174|           0|            40| United-States|false|\n",
      "| 50|Self-emp-not-inc|           13|Married-civ-spouse|  Exec-managerial|      Husband|White|  Male|           0|           0|            13| United-States|false|\n",
      "| 38|         Private|            9|          Divorced|Handlers-cleaners|Not-in-family|White|  Male|           0|           0|            40| United-States|false|\n",
      "| 53|         Private|            7|Married-civ-spouse|Handlers-cleaners|      Husband|Black|  Male|           0|           0|            40| United-States|false|\n",
      "| 28|         Private|           13|Married-civ-spouse|   Prof-specialty|         Wife|Black|Female|           0|           0|            40|          Cuba|false|\n",
      "+---+----------------+-------------+------------------+-----------------+-------------+-----+------+------------+------------+--------------+--------------+-----+\n",
      "only showing top 5 rows\n",
      "\n"
     ]
    }
   ],
   "source": [
    "def remove_superfluous_cols(df: DataFrame):\n",
    "    df=df.drop('fnlwgt')\n",
    "    return df.drop('education')\n",
    "\n",
    "df_clean = remove_superfluous_cols(df)\n",
    "\n",
    "df_clean.show(5)"
   ]
  },
  {
   "cell_type": "markdown",
   "metadata": {},
   "source": [
    "## Remove unknown values\n",
    "As previously discussed, we will remove the rows with unknown text values which cannot be imputed."
   ]
  },
  {
   "cell_type": "code",
   "execution_count": 13,
   "metadata": {},
   "outputs": [
    {
     "name": "stdout",
     "output_type": "stream",
     "text": [
      "+---+---------+-------------+--------------+----------+------------+----+---+------------+------------+--------------+--------------+----+\n",
      "|age|workclass|education-num|marital-status|occupation|relationship|race|sex|capital-gain|capital-loss|hours-per-week|native-country|>50K|\n",
      "+---+---------+-------------+--------------+----------+------------+----+---+------------+------------+--------------+--------------+----+\n",
      "|  0|        0|            0|             0|         0|           0|   0|  0|           0|           0|             0|             0|   0|\n",
      "+---+---------+-------------+--------------+----------+------------+----+---+------------+------------+--------------+--------------+----+\n",
      "\n"
     ]
    }
   ],
   "source": [
    "df_clean=remove_rows_with_missing_categorical_data(df_clean)\n",
    "\n",
    "count_rows_with_missing_data(df_clean).show()"
   ]
  },
  {
   "cell_type": "markdown",
   "metadata": {
    "tags": []
   },
   "source": [
    "## Create Feature Vector Data\n",
    "Now we can convert all string values into numeric index values using a string indexer:"
   ]
  },
  {
   "cell_type": "code",
   "execution_count": 14,
   "metadata": {},
   "outputs": [
    {
     "name": "stdout",
     "output_type": "stream",
     "text": [
      "+---+-------------+------------+------------+--------------+----+-----------------+----------------------+------------------+--------------------+------------+-----------+----------------------+\n",
      "|age|education-num|capital-gain|capital-loss|hours-per-week|>50K|workclass_indexed|marital-status_indexed|occupation_indexed|relationship_indexed|race_indexed|sex_indexed|native-country_indexed|\n",
      "+---+-------------+------------+------------+--------------+----+-----------------+----------------------+------------------+--------------------+------------+-----------+----------------------+\n",
      "| 39|           13|        2174|           0|            40|   0|              4.0|                   1.0|               3.0|                 1.0|         0.0|        0.0|                   0.0|\n",
      "| 50|           13|           0|           0|            13|   0|              1.0|                   0.0|               2.0|                 0.0|         0.0|        0.0|                   0.0|\n",
      "| 38|            9|           0|           0|            40|   0|              0.0|                   2.0|               9.0|                 1.0|         0.0|        0.0|                   0.0|\n",
      "| 53|            7|           0|           0|            40|   0|              0.0|                   0.0|               9.0|                 0.0|         1.0|        0.0|                   0.0|\n",
      "| 28|           13|           0|           0|            40|   0|              0.0|                   0.0|               0.0|                 4.0|         1.0|        1.0|                   9.0|\n",
      "+---+-------------+------------+------------+--------------+----+-----------------+----------------------+------------------+--------------------+------------+-----------+----------------------+\n",
      "only showing top 5 rows\n",
      "\n"
     ]
    }
   ],
   "source": [
    "from pyspark.ml import Pipeline\n",
    "from pyspark.ml.feature import StringIndexer\n",
    "\n",
    "indexers = [StringIndexer(inputCol=column, outputCol=column+\"_indexed\").fit(df) for column in categoricalColumns ]\n",
    "pipeline = Pipeline(stages=indexers)\n",
    "\n",
    "\n",
    "def index_strings(df: DataFrame):\n",
    "    dfi=pipeline.fit(df).transform(df)\n",
    "    return dfi.drop(*categoricalColumns).withColumn(LABEL_COL, df[LABEL_COL].cast(IntegerType()))\n",
    "\n",
    "df_indexed=index_strings(df_clean)\n",
    "df_indexed.show(5)"
   ]
  },
  {
   "cell_type": "markdown",
   "metadata": {},
   "source": [
    "## Check for Redundant Features\n",
    "\n",
    "Now that we indexed all our string values, we can create a correlation matrix between each feature.\n",
    "\n",
    "If two features have a high correlation, we can view one or more of these as redundant and remove it from our machine learning model."
   ]
  },
  {
   "cell_type": "code",
   "execution_count": 15,
   "metadata": {},
   "outputs": [
    {
     "name": "stdout",
     "output_type": "stream",
     "text": [
      "['age', 'education-num', 'capital-gain', 'capital-loss', 'hours-per-week', 'workclass_indexed', 'marital-status_indexed', 'occupation_indexed', 'relationship_indexed', 'race_indexed', 'sex_indexed', 'native-country_indexed']\n"
     ]
    },
    {
     "name": "stderr",
     "output_type": "stream",
     "text": [
      "/usr/local/spark/python/pyspark/sql/context.py:125: FutureWarning: Deprecated in 3.0.0. Use SparkSession.builder.getOrCreate() instead.\n",
      "  warnings.warn(\n"
     ]
    },
    {
     "data": {
      "image/png": "[encoded data removed]",
      "text/plain": [
       "<Figure size 1080x1080 with 2 Axes>"
      ]
     },
     "metadata": {
      "needs_background": "light"
     },
     "output_type": "display_data"
    }
   ],
   "source": [
    "import numpy as np\n",
    "import matplotlib.pyplot as plt\n",
    "from pyspark.ml.feature import VectorAssembler\n",
    "from pyspark.ml.stat import Correlation\n",
    "\n",
    "\n",
    "corr_graph=df_indexed.drop(LABEL_COL)\n",
    "\n",
    "columns = corr_graph.columns\n",
    "print(columns)\n",
    "vector_col = \"corr_features\"\n",
    "assembler = VectorAssembler(inputCols=corr_graph.columns, \n",
    "                            outputCol=vector_col)\n",
    "corr_graph_vector = assembler.transform(corr_graph).select(vector_col)\n",
    "matrix = Correlation.corr(corr_graph_vector, vector_col)\n",
    "\n",
    "matrix = Correlation.corr(corr_graph_vector, vector_col).collect()[0][0]\n",
    "corrmatrix = matrix.toArray().tolist()\n",
    "# print(corrmatrix)\n",
    "\n",
    "df = spark.createDataFrame(corrmatrix,columns)\n",
    "\n",
    "def plot_corr_matrix(correlations,attr,fig_no):\n",
    "    fig=plt.figure(figsize=(15,15))\n",
    "    ax=fig.add_subplot(111)\n",
    "    ax.set_title(\"Correlation Matrix\")\n",
    "    ax.set_xticks(np.arange(len(attr)))\n",
    "    ax.set_yticks(np.arange(len(attr)))\n",
    "    ax.set_xticklabels(attr, rotation=90, fontsize=10)\n",
    "    ax.set_yticklabels(attr, fontsize=10)\n",
    "    cax=ax.imshow(correlations,vmax=1,vmin=-1)\n",
    "    fig.colorbar(cax)\n",
    "    plt.show()\n",
    "\n",
    "plot_corr_matrix(corrmatrix, columns, 234)"
   ]
  },
  {
   "cell_type": "markdown",
   "metadata": {
    "tags": []
   },
   "source": [
    "## Create Feature Vectors"
   ]
  },
  {
   "cell_type": "code",
   "execution_count": 16,
   "metadata": {},
   "outputs": [
    {
     "name": "stdout",
     "output_type": "stream",
     "text": [
      "+--------------------+----+\n",
      "|            features|>50K|\n",
      "+--------------------+----+\n",
      "|[39.0,13.0,2174.0...|   0|\n",
      "|(12,[0,1,4,5,7],[...|   0|\n",
      "|(12,[0,1,4,6,7,8]...|   0|\n",
      "|(12,[0,1,4,7,9],[...|   0|\n",
      "|[28.0,13.0,0.0,0....|   0|\n",
      "+--------------------+----+\n",
      "only showing top 5 rows\n",
      "\n"
     ]
    }
   ],
   "source": [
    "from pyspark.ml.feature import VectorAssembler, Normalizer\n",
    "VECTOR_COL='features'\n",
    "\n",
    "features=list(df_indexed.drop(LABEL_COL).toPandas().columns)\n",
    "\n",
    "assembler=VectorAssembler(inputCols=features, outputCol=VECTOR_COL)\n",
    "\n",
    "def create_feature_vector(df):\n",
    "    df_vector = assembler.transform(df)\n",
    "    return df_vector.select(*[VECTOR_COL, LABEL_COL])\n",
    "\n",
    "df_vector = create_feature_vector(df_indexed)\n",
    "df_vector.show(5)"
   ]
  },
  {
   "cell_type": "markdown",
   "metadata": {
    "tags": []
   },
   "source": [
    "## Normalise Vectors\n",
    "\n",
    "We to normalize the feature vectors using $L^1$ norm "
   ]
  },
  {
   "cell_type": "code",
   "execution_count": 17,
   "metadata": {},
   "outputs": [
    {
     "name": "stdout",
     "output_type": "stream",
     "text": [
      "+----+--------------------+\n",
      "|>50K|            features|\n",
      "+----+--------------------+\n",
      "|   0|[0.01714285714285...|\n",
      "|   0|(12,[0,1,4,5,7],[...|\n",
      "|   0|(12,[0,1,4,6,7,8]...|\n",
      "|   0|(12,[0,1,4,7,9],[...|\n",
      "|   0|[0.29166666666666...|\n",
      "+----+--------------------+\n",
      "only showing top 5 rows\n",
      "\n"
     ]
    }
   ],
   "source": [
    "normalizer = Normalizer().setInputCol(VECTOR_COL).setOutputCol(f'{VECTOR_COL}_n').setP(1.0)\n",
    "\n",
    "\n",
    "def normalize_vector(df_vector):\n",
    "    df_vector = normalizer.transform(df_vector)\n",
    "    return df_vector.drop(VECTOR_COL).withColumnRenamed(f'{VECTOR_COL}_n',VECTOR_COL)\n",
    "\n",
    "df_vector = normalize_vector(df_vector)\n",
    "df_vector.show(5)\n"
   ]
  },
  {
   "cell_type": "markdown",
   "metadata": {
    "tags": []
   },
   "source": [
    "# Classification\n",
    "\n",
    "Logical Regression adapted from example in Spark documentation: https://spark.apache.org/docs/3.0.1/ml-pipeline.html\n",
    "\n",
    "## Configure Logistical Regression Instance\n"
   ]
  },
  {
   "cell_type": "code",
   "execution_count": 18,
   "metadata": {},
   "outputs": [
    {
     "name": "stdout",
     "output_type": "stream",
     "text": [
      "LogisticRegression parameters:\n"
     ]
    },
    {
     "data": {
      "text/plain": [
       "\"aggregationDepth: suggested depth for treeAggregate (>= 2). (default: 2)\\nelasticNetParam: the ElasticNet mixing parameter, in range [0, 1]. For alpha = 0, the penalty is an L2 penalty. For alpha = 1, it is an L1 penalty. (default: 0.0)\\nfamily: The name of family which is a description of the label distribution to be used in the model. Supported options: auto, binomial, multinomial (default: auto)\\nfeaturesCol: features column name. (default: features, current: features)\\nfitIntercept: whether to fit an intercept term. (default: True)\\nlabelCol: label column name. (default: label, current: >50K)\\nlowerBoundsOnCoefficients: The lower bounds on coefficients if fitting under bound constrained optimization. The bound matrix must be compatible with the shape (1, number of features) for binomial regression, or (number of classes, number of features) for multinomial regression. (undefined)\\nlowerBoundsOnIntercepts: The lower bounds on intercepts if fitting under bound constrained optimization. The bounds vector size must beequal with 1 for binomial regression, or the number oflasses for multinomial regression. (undefined)\\nmaxBlockSizeInMB: maximum memory in MB for stacking input data into blocks. Data is stacked within partitions. If more than remaining data size in a partition then it is adjusted to the data size. Default 0.0 represents choosing optimal value, depends on specific algorithm. Must be >= 0. (default: 0.0)\\nmaxIter: max number of iterations (>= 0). (default: 100, current: 10)\\npredictionCol: prediction column name. (default: prediction)\\nprobabilityCol: Column name for predicted class conditional probabilities. Note: Not all models output well-calibrated probability estimates! These probabilities should be treated as confidences, not precise probabilities. (default: probability)\\nrawPredictionCol: raw prediction (a.k.a. confidence) column name. (default: rawPrediction)\\nregParam: regularization parameter (>= 0). (default: 0.0, current: 0.01)\\nstandardization: whether to standardize the training features before fitting the model. (default: True)\\nthreshold: Threshold in binary classification prediction, in range [0, 1]. If threshold and thresholds are both set, they must match.e.g. if threshold is p, then thresholds must be equal to [1-p, p]. (default: 0.5)\\nthresholds: Thresholds in multi-class classification to adjust the probability of predicting each class. Array must have length equal to the number of classes, with values > 0, excepting that at most one value may be 0. The class with largest value p/t is predicted, where p is the original probability of that class and t is the class's threshold. (undefined)\\ntol: the convergence tolerance for iterative algorithms (>= 0). (default: 1e-06)\\nupperBoundsOnCoefficients: The upper bounds on coefficients if fitting under bound constrained optimization. The bound matrix must be compatible with the shape (1, number of features) for binomial regression, or (number of classes, number of features) for multinomial regression. (undefined)\\nupperBoundsOnIntercepts: The upper bounds on intercepts if fitting under bound constrained optimization. The bound vector size must be equal with 1 for binomial regression, or the number of classes for multinomial regression. (undefined)\\nweightCol: weight column name. If this is not set or empty, we treat all instance weights as 1.0. (undefined)\""
      ]
     },
     "execution_count": 18,
     "metadata": {},
     "output_type": "execute_result"
    }
   ],
   "source": [
    "from pyspark.ml.classification import LogisticRegression\n",
    "\n",
    "training_data=df_vector\n",
    "\n",
    "# Create a LogisticRegression instance. This instance is an Estimator.\n",
    "lr = LogisticRegression(maxIter=10, regParam=0.01, featuresCol=VECTOR_COL, labelCol=LABEL_COL)\n",
    "# Print out the parameters, documentation, and any default values.\n",
    "print(f\"LogisticRegression parameters:\")\n",
    "lr.explainParams()\n"
   ]
  },
  {
   "cell_type": "markdown",
   "metadata": {},
   "source": [
    "## Train the Model\n",
    "Train the model using the training data we prepared earlier"
   ]
  },
  {
   "cell_type": "code",
   "execution_count": 19,
   "metadata": {},
   "outputs": [
    {
     "name": "stdout",
     "output_type": "stream",
     "text": [
      "Model 1 was fit using parameters: \n"
     ]
    },
    {
     "data": {
      "text/plain": [
       "{Param(parent='LogisticRegression_0b80f0b93f0f', name='aggregationDepth', doc='suggested depth for treeAggregate (>= 2).'): 2,\n",
       " Param(parent='LogisticRegression_0b80f0b93f0f', name='elasticNetParam', doc='the ElasticNet mixing parameter, in range [0, 1]. For alpha = 0, the penalty is an L2 penalty. For alpha = 1, it is an L1 penalty.'): 0.0,\n",
       " Param(parent='LogisticRegression_0b80f0b93f0f', name='family', doc='The name of family which is a description of the label distribution to be used in the model. Supported options: auto, binomial, multinomial'): 'auto',\n",
       " Param(parent='LogisticRegression_0b80f0b93f0f', name='featuresCol', doc='features column name.'): 'features',\n",
       " Param(parent='LogisticRegression_0b80f0b93f0f', name='fitIntercept', doc='whether to fit an intercept term.'): True,\n",
       " Param(parent='LogisticRegression_0b80f0b93f0f', name='labelCol', doc='label column name.'): '>50K',\n",
       " Param(parent='LogisticRegression_0b80f0b93f0f', name='maxBlockSizeInMB', doc='maximum memory in MB for stacking input data into blocks. Data is stacked within partitions. If more than remaining data size in a partition then it is adjusted to the data size. Default 0.0 represents choosing optimal value, depends on specific algorithm. Must be >= 0.'): 0.0,\n",
       " Param(parent='LogisticRegression_0b80f0b93f0f', name='maxIter', doc='max number of iterations (>= 0).'): 10,\n",
       " Param(parent='LogisticRegression_0b80f0b93f0f', name='predictionCol', doc='prediction column name.'): 'prediction',\n",
       " Param(parent='LogisticRegression_0b80f0b93f0f', name='probabilityCol', doc='Column name for predicted class conditional probabilities. Note: Not all models output well-calibrated probability estimates! These probabilities should be treated as confidences, not precise probabilities.'): 'probability',\n",
       " Param(parent='LogisticRegression_0b80f0b93f0f', name='rawPredictionCol', doc='raw prediction (a.k.a. confidence) column name.'): 'rawPrediction',\n",
       " Param(parent='LogisticRegression_0b80f0b93f0f', name='regParam', doc='regularization parameter (>= 0).'): 0.01,\n",
       " Param(parent='LogisticRegression_0b80f0b93f0f', name='standardization', doc='whether to standardize the training features before fitting the model.'): True,\n",
       " Param(parent='LogisticRegression_0b80f0b93f0f', name='threshold', doc='Threshold in binary classification prediction, in range [0, 1]. If threshold and thresholds are both set, they must match.e.g. if threshold is p, then thresholds must be equal to [1-p, p].'): 0.5,\n",
       " Param(parent='LogisticRegression_0b80f0b93f0f', name='tol', doc='the convergence tolerance for iterative algorithms (>= 0).'): 1e-06}"
      ]
     },
     "execution_count": 19,
     "metadata": {},
     "output_type": "execute_result"
    }
   ],
   "source": [
    "training_data=df_vector\n",
    "# Learn a LogisticRegression models. This uses the parameters stored in lr.\n",
    "model1 = lr.fit(training_data)\n",
    "print(\"Model 1 was fit using parameters: \")\n",
    "model1.extractParamMap()"
   ]
  },
  {
   "cell_type": "markdown",
   "metadata": {
    "tags": []
   },
   "source": [
    "## Prepare the Test Data\n",
    "In a seperate file, additional values, with their classifications, is stored.\n",
    "\n",
    "We will load this data and prepare it as we did our training data:"
   ]
  },
  {
   "cell_type": "code",
   "execution_count": 20,
   "metadata": {},
   "outputs": [
    {
     "name": "stdout",
     "output_type": "stream",
     "text": [
      "+----+--------------------+\n",
      "|>50K|            features|\n",
      "+----+--------------------+\n",
      "|   0|[0.30487804878048...|\n",
      "|   0|(12,[0,1,4,7],[0....|\n",
      "|   1|(12,[0,1,4,5,7],[...|\n",
      "|   1|(12,[0,1,2,4,7,9]...|\n",
      "|   0|[0.25,0.138888888...|\n",
      "+----+--------------------+\n",
      "only showing top 5 rows\n",
      "\n"
     ]
    }
   ],
   "source": [
    "test_data=load_data(SOURCE_TEST_DATA)\n",
    "test_data=remove_superfluous_cols(test_data)\n",
    "test_data=convert_label_col(test_data)\n",
    "test_data=index_strings(test_data)\n",
    "test_data=create_feature_vector(test_data)\n",
    "test_data=normalize_vector(test_data)\n",
    "\n",
    "test_data.show(5)"
   ]
  },
  {
   "cell_type": "markdown",
   "metadata": {
    "tags": []
   },
   "source": [
    "## Make Predictions\n",
    "Finally we can can put our model to the test."
   ]
  },
  {
   "cell_type": "code",
   "execution_count": 21,
   "metadata": {},
   "outputs": [
    {
     "name": "stdout",
     "output_type": "stream",
     "text": [
      "+----+----------+\n",
      "|>50K|prediction|\n",
      "+----+----------+\n",
      "|   0|       0.0|\n",
      "|   0|       0.0|\n",
      "|   1|       0.0|\n",
      "|   1|       1.0|\n",
      "|   0|       0.0|\n",
      "|   0|       0.0|\n",
      "|   0|       0.0|\n",
      "|   1|       1.0|\n",
      "|   0|       0.0|\n",
      "|   0|       0.0|\n",
      "|   1|       1.0|\n",
      "|   0|       1.0|\n",
      "|   0|       0.0|\n",
      "|   0|       0.0|\n",
      "|   1|       1.0|\n",
      "|   1|       0.0|\n",
      "|   0|       0.0|\n",
      "|   0|       0.0|\n",
      "|   0|       0.0|\n",
      "|   1|       0.0|\n",
      "+----+----------+\n",
      "only showing top 20 rows\n",
      "\n"
     ]
    }
   ],
   "source": [
    "model=model1\n",
    "# Make predictions on test data using the Transformer.transform() method.\n",
    "# LogisticRegression.transform will only use the 'features' column.\n",
    "prediction = model.transform(test_data)\n",
    "\n",
    "prediction.select(['>50K', 'prediction' ]).show()"
   ]
  },
  {
   "cell_type": "markdown",
   "metadata": {
    "tags": []
   },
   "source": [
    "## Evaluate the Model\n",
    "\n",
    "Finally, we can evaluate the success of our model with a classification evaluator:"
   ]
  },
  {
   "cell_type": "code",
   "execution_count": 22,
   "metadata": {},
   "outputs": [
    {
     "name": "stdout",
     "output_type": "stream",
     "text": [
      "Test Accuracy = 0.797371\n"
     ]
    }
   ],
   "source": [
    "from pyspark.ml.evaluation import MulticlassClassificationEvaluator\n",
    "\n",
    "# obtain evaluator.\n",
    "evaluator = MulticlassClassificationEvaluator(metricName='accuracy', labelCol=LABEL_COL)\n",
    "# compute the classification error on test data.\n",
    "accuracy = evaluator.evaluate(prediction)\n",
    "\n",
    "if not evaluator.isLargerBetter():\n",
    "    accuracy = 1 - accuracy\n",
    "    \n",
    "print(\"Test Accuracy = %g\" % accuracy)\n",
    "\n"
   ]
  }
 ],
 "metadata": {
  "kernelspec": {
   "display_name": "Python 3 (ipykernel)",
   "language": "python",
   "name": "python3"
  },
  "language_info": {
   "codemirror_mode": {
    "name": "ipython",
    "version": 3
   },
   "file_extension": ".py",
   "mimetype": "text/x-python",
   "name": "python",
   "nbconvert_exporter": "python",
   "pygments_lexer": "ipython3",
   "version": "3.9.7"
  },
  "toc-autonumbering": true
 },
 "nbformat": 4,
 "nbformat_minor": 4
}